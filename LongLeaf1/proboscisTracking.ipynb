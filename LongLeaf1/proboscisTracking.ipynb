{
 "cells": [
  {
   "cell_type": "code",
   "execution_count": 1,
   "id": "97768adc",
   "metadata": {},
   "outputs": [],
   "source": [
    "%%bash\n",
    "LD_LIBRARY_PATH=/nas/longleaf/rhel8/apps/cuda/lib64:$PATH:$LD_LIBRARY_PATH\n",
    "export LD_LIBRARY_PATH\n",
    "XLA_FLAGS=--xla_gpu_cuda_data_dir=/nas/longleaf/rhel8/apps/cuda/11.8\n",
    "export XLA_FLAGS"
   ]
  },
  {
   "cell_type": "code",
   "execution_count": 2,
   "id": "39e17608",
   "metadata": {},
   "outputs": [
    {
     "name": "stderr",
     "output_type": "stream",
     "text": [
      "2023-04-21 22:50:17.805732: I tensorflow/core/platform/cpu_feature_guard.cc:193] This TensorFlow binary is optimized with oneAPI Deep Neural Network Library (oneDNN) to use the following CPU instructions in performance-critical operations:  AVX2 FMA\n",
      "To enable them in other operations, rebuild TensorFlow with the appropriate compiler flags.\n",
      "2023-04-21 22:50:20.941887: W tensorflow/compiler/xla/stream_executor/platform/default/dso_loader.cc:64] Could not load dynamic library 'libnvinfer.so.7'; dlerror: libnvinfer.so.7: cannot open shared object file: No such file or directory; LD_LIBRARY_PATH: /nas/longleaf/apps/julia/1.6.3/lib:/nas/longleaf/rhel8/apps/cuda/11.8/lib64:/nas/longleaf/rhel8/apps/cuda/11.8/extras/CUPTI/lib64:/nas/longleaf/rhel8/apps/gcc/11.2.0/lib:/nas/longleaf/rhel8/apps/gcc/11.2.0/lib64\n",
      "2023-04-21 22:50:20.943630: W tensorflow/compiler/xla/stream_executor/platform/default/dso_loader.cc:64] Could not load dynamic library 'libnvinfer_plugin.so.7'; dlerror: libnvinfer_plugin.so.7: cannot open shared object file: No such file or directory; LD_LIBRARY_PATH: /nas/longleaf/apps/julia/1.6.3/lib:/nas/longleaf/rhel8/apps/cuda/11.8/lib64:/nas/longleaf/rhel8/apps/cuda/11.8/extras/CUPTI/lib64:/nas/longleaf/rhel8/apps/gcc/11.2.0/lib:/nas/longleaf/rhel8/apps/gcc/11.2.0/lib64\n",
      "2023-04-21 22:50:20.943639: W tensorflow/compiler/tf2tensorrt/utils/py_utils.cc:38] TF-TRT Warning: Cannot dlopen some TensorRT libraries. If you would like to use Nvidia GPU with TensorRT, please make sure the missing libraries mentioned above are installed properly.\n"
     ]
    }
   ],
   "source": [
    "import os\n",
    "\n",
    "from xml.etree import ElementTree\n",
    "import glob\n",
    "from tensorflow import keras\n",
    "import tensorflow as tf\n",
    "import sklearn\n",
    "from skimage import draw\n",
    "from skimage.io import imread\n",
    "from skimage import morphology\n",
    "from skimage import transform\n",
    "from skimage import util\n",
    "import numpy as np\n",
    "from matplotlib import pyplot\n",
    "#from tensorflow import keras\n",
    "#import tensorflow as tf\n",
    "from tensorflow.keras import layers, losses, optimizers, Model\n",
    "from tensorflow.keras.utils import  plot_model\n",
    "tf.keras.backend.set_image_data_format('channels_last')"
   ]
  },
  {
   "cell_type": "code",
   "execution_count": 3,
   "id": "946b2b99",
   "metadata": {},
   "outputs": [
    {
     "data": {
      "text/plain": [
       "[PhysicalDevice(name='/physical_device:GPU:0', device_type='GPU')]"
      ]
     },
     "execution_count": 3,
     "metadata": {},
     "output_type": "execute_result"
    }
   ],
   "source": [
    "tf.config.list_physical_devices('GPU')"
   ]
  },
  {
   "cell_type": "code",
   "execution_count": 4,
   "id": "09f1869e",
   "metadata": {},
   "outputs": [],
   "source": [
    "et = ElementTree.parse(\"proboscis_annotations_big.xml\")"
   ]
  },
  {
   "cell_type": "code",
   "execution_count": 5,
   "id": "4a13ee54",
   "metadata": {},
   "outputs": [],
   "source": [
    "image_names = sorted(glob.glob(\"big/*.png\"))"
   ]
  },
  {
   "cell_type": "code",
   "execution_count": 6,
   "id": "698970ed",
   "metadata": {},
   "outputs": [],
   "source": [
    "masks = {}\n",
    "for img in et.findall('image'):\n",
    "    width = int(img.attrib['width']) + 1\n",
    "    height = int(img.attrib['height']) + 1\n",
    "    blank = np.zeros(shape=(height,width),dtype=np.uint8)\n",
    "    polys = img.findall('polyline')\n",
    "    for poly in polys:\n",
    "        attribs = poly.attrib\n",
    "        pstr = attribs['points']\n",
    "        pairs = pstr.split(';')\n",
    "        coord_list = []\n",
    "        for pair in pairs:\n",
    "            xstr,ystr = pair.split(',')\n",
    "            x = float(xstr)\n",
    "            y = float(ystr)\n",
    "            coord_list.append((x,y))\n",
    "        for i in range(len(coord_list) - 1):\n",
    "            start = coord_list[i]\n",
    "            end = coord_list[i + 1]\n",
    "            line = draw.line(round(start[1]),round(start[0]),round(end[1]),round(end[0]))\n",
    "            blank[line] = np.uint8(255)\n",
    "    masks[img.attrib['name']] = blank > 0"
   ]
  },
  {
   "cell_type": "code",
   "execution_count": 7,
   "id": "7cc779f2",
   "metadata": {},
   "outputs": [
    {
     "name": "stdout",
     "output_type": "stream",
     "text": [
      "scikit-image==0.18.3\r\n"
     ]
    }
   ],
   "source": [
    "!pip freeze | grep 'scikit-image'"
   ]
  },
  {
   "cell_type": "code",
   "execution_count": 8,
   "id": "472a01e4",
   "metadata": {},
   "outputs": [],
   "source": [
    "images = {}\n",
    "for name in image_names:\n",
    "    data = imread(name)\n",
    "    images[name] = data"
   ]
  },
  {
   "cell_type": "code",
   "execution_count": 9,
   "id": "d57e9ace",
   "metadata": {},
   "outputs": [],
   "source": [
    "names = [image_name[4:] for image_name in image_names]"
   ]
  },
  {
   "cell_type": "code",
   "execution_count": 10,
   "id": "8c5d0872",
   "metadata": {},
   "outputs": [],
   "source": [
    "pairs = []\n",
    "cross = zip(image_names, image_names)\n",
    "for short_name, long_name in cross:\n",
    "    if short_name in masks:\n",
    "        mask = masks[short_name]\n",
    "        trainee = images[long_name]\n",
    "        pairs.append((trainee, morphology.dilation(mask[:-1,:-1])))\n",
    "    else:\n",
    "        trainee = images[long_name]\n",
    "        mask = np.zeros(shape=trainee.shape)\n",
    "        pairs.append((trainee, mask))"
   ]
  },
  {
   "cell_type": "code",
   "execution_count": 11,
   "id": "235fd3e3",
   "metadata": {},
   "outputs": [
    {
     "data": {
      "text/plain": [
       "373"
      ]
     },
     "execution_count": 11,
     "metadata": {},
     "output_type": "execute_result"
    }
   ],
   "source": [
    "len(pairs)"
   ]
  },
  {
   "cell_type": "code",
   "execution_count": 12,
   "id": "5cc48ee0",
   "metadata": {},
   "outputs": [],
   "source": [
    "with_probs = filter(lambda pair : pair[1].sum() > 0, pairs)"
   ]
  },
  {
   "cell_type": "code",
   "execution_count": 13,
   "id": "c7a4c4eb",
   "metadata": {},
   "outputs": [],
   "source": [
    "labeled_pairs = list(with_probs)"
   ]
  },
  {
   "cell_type": "code",
   "execution_count": 14,
   "id": "07e3f042",
   "metadata": {},
   "outputs": [
    {
     "data": {
      "text/plain": [
       "350"
      ]
     },
     "execution_count": 14,
     "metadata": {},
     "output_type": "execute_result"
    }
   ],
   "source": [
    "len(labeled_pairs)"
   ]
  },
  {
   "cell_type": "code",
   "execution_count": 15,
   "id": "819abe7e",
   "metadata": {},
   "outputs": [],
   "source": [
    "inputs = []\n",
    "outputs = []\n",
    "for my_in, my_out in labeled_pairs:\n",
    "    inputs.append(my_in)\n",
    "    outputs.append(my_out)"
   ]
  },
  {
   "cell_type": "code",
   "execution_count": 16,
   "id": "12410f7e",
   "metadata": {},
   "outputs": [],
   "source": [
    "ins = np.array(inputs)\n",
    "outs = np.array(outputs)"
   ]
  },
  {
   "cell_type": "code",
   "execution_count": 17,
   "id": "929d5eff",
   "metadata": {},
   "outputs": [
    {
     "data": {
      "text/plain": [
       "(350, 600, 100)"
      ]
     },
     "execution_count": 17,
     "metadata": {},
     "output_type": "execute_result"
    }
   ],
   "source": [
    "ins.shape"
   ]
  },
  {
   "cell_type": "code",
   "execution_count": 18,
   "id": "e2ba063e",
   "metadata": {},
   "outputs": [
    {
     "data": {
      "text/plain": [
       "(350, 600, 100)"
      ]
     },
     "execution_count": 18,
     "metadata": {},
     "output_type": "execute_result"
    }
   ],
   "source": [
    "outs.shape"
   ]
  },
  {
   "cell_type": "code",
   "execution_count": 23,
   "id": "5c042292",
   "metadata": {},
   "outputs": [],
   "source": [
    "input_data = ins[..., np.newaxis]\n",
    "output_data = outs[..., np.newaxis]"
   ]
  },
  {
   "cell_type": "code",
   "execution_count": 24,
   "id": "748a1fe4",
   "metadata": {},
   "outputs": [],
   "source": [
    "# from https://blog.paperspace.com/unet-architecture-image-segmentation/\n",
    "\n",
    "def convolution_block(input_lay, filters=64):\n",
    "    conv1 = layers.Conv2D(filters, kernel_size=(3,3), padding=\"same\")(input_lay)\n",
    "    bn1 = layers.BatchNormalization()(conv1)\n",
    "    act1 = layers.ReLU()(bn1)\n",
    "    \n",
    "    conv2 = layers.Conv2D(filters, kernel_size=(3,3), padding=\"same\")(act1)\n",
    "    bn2 = layers.BatchNormalization()(conv2)\n",
    "    act2 = layers.ReLU()(bn2)\n",
    "    \n",
    "    return act2\n",
    "\n",
    "def encoder(input_lay, filters=64):\n",
    "    enc1 = convolution_block(input_lay, filters)\n",
    "    max_pool1 = layers.MaxPooling2D()(enc1)\n",
    "    return enc1, max_pool1\n",
    "\n",
    "def decoder(input_lay, skip_lay, filters=64):\n",
    "    upsample = layers.Conv2DTranspose(filters, (2,2), strides=2, padding=\"same\")(input_lay)\n",
    "    connect_skip = layers.Concatenate()([upsample, skip_lay])\n",
    "    out = convolution_block(connect_skip, filters)\n",
    "    return out\n",
    "\n",
    "def u_net(image_size):\n",
    "    input1 = layers.Input(image_size)\n",
    "    \n",
    "    skip1, enc1 = encoder(input1, 64)\n",
    "    skip2, enc2 = encoder(enc1, 64 * 2)\n",
    "    skip3, enc3 = encoder(enc2, 64 * 4)\n",
    "    skip4, enc4 = encoder(enc3, 64 * 8)\n",
    "    \n",
    "    conv_block = convolution_block(enc4, 64*16)\n",
    "    \n",
    "    dec1 = decoder(conv_block, skip4, 64 * 8)\n",
    "    dec2 = decoder(dec1, skip3, 64 * 4)\n",
    "    dec3 = decoder(dec2, skip2, 64 * 2)\n",
    "    dec4 = decoder(dec3, skip1, 64)\n",
    "    \n",
    "    out = layers.Conv2D(filters=1, kernel_size=(1,1), padding=\"same\", activation=\"sigmoid\")(dec4)\n",
    "    \n",
    "    model = Model(input1, out)\n",
    "    \n",
    "    return model\n",
    "\n",
    "inp = layers.Input(shape=[600,100,1])\n",
    "res = layers.Rescaling(1.0/255)(inp)\n",
    "#x = layers.Conv2D(filters=4, kernel_size=(3,3))(res)\n",
    "\n",
    "skip1, enc1 = encoder(res, 64)\n",
    "skip2, enc2 = encoder(enc1, 64 * 2)\n",
    "#skip3, enc3 = encoder(enc2, 64 * 4)\n",
    "\n",
    "conv_block = convolution_block(enc2, 64 * 4)\n",
    "\n",
    "dec1 = decoder(conv_block, skip2, 64 * 2)\n",
    "dec2 = decoder(dec1, skip1, 64)\n",
    "#dec3 = decoder(dec2, skip1, 64)\n",
    "\n",
    "f = layers.Flatten()(dec2)\n",
    "\n",
    "#out = layers.Dense(1)(f)\n",
    "out = layers.Conv2D(filters=1, kernel_size=(1,1))(dec2)\n",
    "\n",
    "model = Model(inp, out)\n",
    "model.compile(loss=losses.BinaryCrossentropy(), optimizer=optimizers.Adam(use_ema=True))\n",
    "#plot_model(model)"
   ]
  },
  {
   "cell_type": "code",
   "execution_count": 25,
   "id": "dfc187ab",
   "metadata": {},
   "outputs": [
    {
     "name": "stdout",
     "output_type": "stream",
     "text": [
      "Model: \"model_1\"\n",
      "__________________________________________________________________________________________________\n",
      " Layer (type)                   Output Shape         Param #     Connected to                     \n",
      "==================================================================================================\n",
      " input_2 (InputLayer)           [(None, 600, 100, 1  0           []                               \n",
      "                                )]                                                                \n",
      "                                                                                                  \n",
      " rescaling_1 (Rescaling)        (None, 600, 100, 1)  0           ['input_2[0][0]']                \n",
      "                                                                                                  \n",
      " conv2d_11 (Conv2D)             (None, 600, 100, 64  640         ['rescaling_1[0][0]']            \n",
      "                                )                                                                 \n",
      "                                                                                                  \n",
      " batch_normalization_10 (BatchN  (None, 600, 100, 64  256        ['conv2d_11[0][0]']              \n",
      " ormalization)                  )                                                                 \n",
      "                                                                                                  \n",
      " re_lu_10 (ReLU)                (None, 600, 100, 64  0           ['batch_normalization_10[0][0]'] \n",
      "                                )                                                                 \n",
      "                                                                                                  \n",
      " conv2d_12 (Conv2D)             (None, 600, 100, 64  36928       ['re_lu_10[0][0]']               \n",
      "                                )                                                                 \n",
      "                                                                                                  \n",
      " batch_normalization_11 (BatchN  (None, 600, 100, 64  256        ['conv2d_12[0][0]']              \n",
      " ormalization)                  )                                                                 \n",
      "                                                                                                  \n",
      " re_lu_11 (ReLU)                (None, 600, 100, 64  0           ['batch_normalization_11[0][0]'] \n",
      "                                )                                                                 \n",
      "                                                                                                  \n",
      " max_pooling2d_2 (MaxPooling2D)  (None, 300, 50, 64)  0          ['re_lu_11[0][0]']               \n",
      "                                                                                                  \n",
      " conv2d_13 (Conv2D)             (None, 300, 50, 128  73856       ['max_pooling2d_2[0][0]']        \n",
      "                                )                                                                 \n",
      "                                                                                                  \n",
      " batch_normalization_12 (BatchN  (None, 300, 50, 128  512        ['conv2d_13[0][0]']              \n",
      " ormalization)                  )                                                                 \n",
      "                                                                                                  \n",
      " re_lu_12 (ReLU)                (None, 300, 50, 128  0           ['batch_normalization_12[0][0]'] \n",
      "                                )                                                                 \n",
      "                                                                                                  \n",
      " conv2d_14 (Conv2D)             (None, 300, 50, 128  147584      ['re_lu_12[0][0]']               \n",
      "                                )                                                                 \n",
      "                                                                                                  \n",
      " batch_normalization_13 (BatchN  (None, 300, 50, 128  512        ['conv2d_14[0][0]']              \n",
      " ormalization)                  )                                                                 \n",
      "                                                                                                  \n",
      " re_lu_13 (ReLU)                (None, 300, 50, 128  0           ['batch_normalization_13[0][0]'] \n",
      "                                )                                                                 \n",
      "                                                                                                  \n",
      " max_pooling2d_3 (MaxPooling2D)  (None, 150, 25, 128  0          ['re_lu_13[0][0]']               \n",
      "                                )                                                                 \n",
      "                                                                                                  \n",
      " conv2d_15 (Conv2D)             (None, 150, 25, 256  295168      ['max_pooling2d_3[0][0]']        \n",
      "                                )                                                                 \n",
      "                                                                                                  \n",
      " batch_normalization_14 (BatchN  (None, 150, 25, 256  1024       ['conv2d_15[0][0]']              \n",
      " ormalization)                  )                                                                 \n",
      "                                                                                                  \n",
      " re_lu_14 (ReLU)                (None, 150, 25, 256  0           ['batch_normalization_14[0][0]'] \n",
      "                                )                                                                 \n",
      "                                                                                                  \n",
      " conv2d_16 (Conv2D)             (None, 150, 25, 256  590080      ['re_lu_14[0][0]']               \n",
      "                                )                                                                 \n",
      "                                                                                                  \n",
      " batch_normalization_15 (BatchN  (None, 150, 25, 256  1024       ['conv2d_16[0][0]']              \n",
      " ormalization)                  )                                                                 \n",
      "                                                                                                  \n",
      " re_lu_15 (ReLU)                (None, 150, 25, 256  0           ['batch_normalization_15[0][0]'] \n",
      "                                )                                                                 \n",
      "                                                                                                  \n",
      " conv2d_transpose_2 (Conv2DTran  (None, 300, 50, 128  131200     ['re_lu_15[0][0]']               \n",
      " spose)                         )                                                                 \n",
      "                                                                                                  \n",
      " concatenate_2 (Concatenate)    (None, 300, 50, 256  0           ['conv2d_transpose_2[0][0]',     \n",
      "                                )                                 're_lu_13[0][0]']               \n",
      "                                                                                                  \n",
      " conv2d_17 (Conv2D)             (None, 300, 50, 128  295040      ['concatenate_2[0][0]']          \n",
      "                                )                                                                 \n",
      "                                                                                                  \n",
      " batch_normalization_16 (BatchN  (None, 300, 50, 128  512        ['conv2d_17[0][0]']              \n",
      " ormalization)                  )                                                                 \n",
      "                                                                                                  \n",
      " re_lu_16 (ReLU)                (None, 300, 50, 128  0           ['batch_normalization_16[0][0]'] \n",
      "                                )                                                                 \n",
      "                                                                                                  \n",
      " conv2d_18 (Conv2D)             (None, 300, 50, 128  147584      ['re_lu_16[0][0]']               \n"
     ]
    },
    {
     "name": "stdout",
     "output_type": "stream",
     "text": [
      "                                )                                                                 \n",
      "                                                                                                  \n",
      " batch_normalization_17 (BatchN  (None, 300, 50, 128  512        ['conv2d_18[0][0]']              \n",
      " ormalization)                  )                                                                 \n",
      "                                                                                                  \n",
      " re_lu_17 (ReLU)                (None, 300, 50, 128  0           ['batch_normalization_17[0][0]'] \n",
      "                                )                                                                 \n",
      "                                                                                                  \n",
      " conv2d_transpose_3 (Conv2DTran  (None, 600, 100, 64  32832      ['re_lu_17[0][0]']               \n",
      " spose)                         )                                                                 \n",
      "                                                                                                  \n",
      " concatenate_3 (Concatenate)    (None, 600, 100, 12  0           ['conv2d_transpose_3[0][0]',     \n",
      "                                8)                                're_lu_11[0][0]']               \n",
      "                                                                                                  \n",
      " conv2d_19 (Conv2D)             (None, 600, 100, 64  73792       ['concatenate_3[0][0]']          \n",
      "                                )                                                                 \n",
      "                                                                                                  \n",
      " batch_normalization_18 (BatchN  (None, 600, 100, 64  256        ['conv2d_19[0][0]']              \n",
      " ormalization)                  )                                                                 \n",
      "                                                                                                  \n",
      " re_lu_18 (ReLU)                (None, 600, 100, 64  0           ['batch_normalization_18[0][0]'] \n",
      "                                )                                                                 \n",
      "                                                                                                  \n",
      " conv2d_20 (Conv2D)             (None, 600, 100, 64  36928       ['re_lu_18[0][0]']               \n",
      "                                )                                                                 \n",
      "                                                                                                  \n",
      " batch_normalization_19 (BatchN  (None, 600, 100, 64  256        ['conv2d_20[0][0]']              \n",
      " ormalization)                  )                                                                 \n",
      "                                                                                                  \n",
      " re_lu_19 (ReLU)                (None, 600, 100, 64  0           ['batch_normalization_19[0][0]'] \n",
      "                                )                                                                 \n",
      "                                                                                                  \n",
      " conv2d_21 (Conv2D)             (None, 600, 100, 1)  65          ['re_lu_19[0][0]']               \n",
      "                                                                                                  \n",
      "==================================================================================================\n",
      "Total params: 1,866,817\n",
      "Trainable params: 1,864,257\n",
      "Non-trainable params: 2,560\n",
      "__________________________________________________________________________________________________\n"
     ]
    }
   ],
   "source": [
    "model.summary()"
   ]
  },
  {
   "cell_type": "code",
   "execution_count": 26,
   "id": "234a48e4",
   "metadata": {},
   "outputs": [],
   "source": [
    "import math\n",
    "\n",
    "class ImageSeq(keras.utils.Sequence):\n",
    "    \n",
    "    def __init__(self, ins: np.ndarray, outs: np.ndarray, batch=32):\n",
    "        assert ins.shape == outs.shape\n",
    "        self.inputs = np.copy(ins)\n",
    "        self.outputs = np.copy(outs)\n",
    "        self.batch = batch\n",
    "    \n",
    "    def __len__(self):\n",
    "        return math.ceil(len(self.inputs) / self.batch)\n",
    "    \n",
    "    def __getitem__(self, idx):\n",
    "        i = self.inputs[idx * self.batch : (idx + 1) * self.batch]\n",
    "        o = self.outputs[idx * self.batch : (idx + 1) * self.batch]\n",
    "        return i.astype(np.uint8), o\n",
    "    \n",
    "\n",
    "class RepeatSeq(keras.utils.Sequence):\n",
    "    \n",
    "    def __init__(self, wrapped, repeats :int):\n",
    "        self.wrapped = wrapped\n",
    "        self.repeats = repeats\n",
    "    \n",
    "    def __len__(self):\n",
    "        return len(self.wrapped) * self.repeats\n",
    "    \n",
    "    def __getitem__(self, idx):\n",
    "        rel_idx = idx % len(self.wrapped)\n",
    "        i, o = self.wrapped[rel_idx]\n",
    "        return np.copy(i), np.copy(o)\n",
    "    \n",
    "class RandomFlip(keras.utils.Sequence):\n",
    "    \n",
    "    def __init__(self, wrapped, thresh=0.4):\n",
    "        self.wrapped = wrapped\n",
    "        self.thresh = thresh\n",
    "        self.should_flip = np.random.random(len(wrapped))\n",
    "    \n",
    "    def __len__(self):\n",
    "        return len(self.wrapped)\n",
    "    \n",
    "    def __getitem__(self, idx):\n",
    "        i, o = self.wrapped[idx]\n",
    "        give_i = i[:]\n",
    "        give_o = o[:]\n",
    "        if self.should_flip[idx] > self.thresh:\n",
    "            give_i = np.flip(give_i, axis=1)\n",
    "            give_o = np.flip(give_o, axis=1)\n",
    "        return give_i, give_o\n",
    "\n",
    "class RandomXShift(keras.utils.Sequence):\n",
    "    \n",
    "    def __init__(self, wrapped, thresh=0.4):\n",
    "        self.wrapped = wrapped\n",
    "        self.move_likely = np.random.random(len(wrapped))\n",
    "        self.thresh = thresh\n",
    "        self.move_amount = np.random.randint(-20, 20, len(wrapped))\n",
    "    \n",
    "    def __len__(self):\n",
    "        return len(self.wrapped)\n",
    "    \n",
    "    def __getitem__(self, idx):\n",
    "        i, o = self.wrapped[idx]\n",
    "        give_i = i[:]\n",
    "        give_o = o[:]\n",
    "        if self.move_likely[idx] > self.thresh:\n",
    "            move = self.move_amount[idx]\n",
    "            transl = transform.EuclideanTransform(translation=[move, 0])\n",
    "            for j in range(len(give_i)):\n",
    "                give_i[j] = util.img_as_ubyte(transform.warp(give_i[j], transl.inverse))\n",
    "                give_o[j] = util.img_as_ubyte(transform.warp(give_o[j], transl.inverse))\n",
    "        return give_i, give_o\n",
    "\n",
    "class RandomYShift(keras.utils.Sequence):\n",
    "    \n",
    "    def __init__(self, wrapped, thresh=0.4):\n",
    "        self.wrapped = wrapped\n",
    "        self.move_likely = np.random.random(len(wrapped))\n",
    "        self.thresh = thresh\n",
    "        self.move_amount = np.random.randint(-200, 200, len(wrapped))\n",
    "    \n",
    "    def __len__(self):\n",
    "        return len(self.wrapped)\n",
    "    \n",
    "    def __getitem__(self, idx):\n",
    "        i, o = self.wrapped[idx]\n",
    "        give_i = i[:]\n",
    "        give_o = o[:]\n",
    "        if self.move_likely[idx] > self.thresh:\n",
    "            move = self.move_amount[idx]\n",
    "            transl = transform.EuclideanTransform(translation=[0, move])\n",
    "            for j in range(len(give_i)):\n",
    "                give_i[j] = util.img_as_ubyte(transform.warp(give_i[j], transl.inverse))\n",
    "                give_o[j] = util.img_as_ubyte(transform.warp(give_o[j], transl.inverse))\n",
    "        return give_i, give_o"
   ]
  },
  {
   "cell_type": "code",
   "execution_count": 27,
   "id": "631ed888",
   "metadata": {},
   "outputs": [],
   "source": [
    "r = RandomXShift(RandomYShift(RandomFlip(RepeatSeq(ImageSeq(input_data, output_data, 8), 32))))"
   ]
  },
  {
   "cell_type": "code",
   "execution_count": 28,
   "id": "31c44177",
   "metadata": {},
   "outputs": [
    {
     "name": "stdout",
     "output_type": "stream",
     "text": [
      "Epoch 1/40\n"
     ]
    },
    {
     "name": "stderr",
     "output_type": "stream",
     "text": [
      "2023-04-21 22:51:32.953478: I tensorflow/compiler/xla/stream_executor/cuda/cuda_dnn.cc:428] Loaded cuDNN version 8801\n",
      "2023-04-21 22:51:40.824985: I tensorflow/compiler/xla/service/service.cc:173] XLA service 0x7f3e103ead80 initialized for platform CUDA (this does not guarantee that XLA will be used). Devices:\n",
      "2023-04-21 22:51:40.825017: I tensorflow/compiler/xla/service/service.cc:181]   StreamExecutor device (0): NVIDIA A100-PCIE-40GB MIG 2g.10gb, Compute Capability 8.0\n",
      "2023-04-21 22:51:40.877828: I tensorflow/compiler/mlir/tensorflow/utils/dump_mlir_util.cc:268] disabling MLIR crash reproducer, set env var `MLIR_CRASH_REPRODUCER_DIRECTORY` to enable.\n",
      "2023-04-21 22:51:40.980410: W tensorflow/compiler/xla/service/gpu/nvptx_helper.cc:56] Can't find libdevice directory ${CUDA_DIR}/nvvm/libdevice. This may result in compilation or runtime failures, if the program we try to run uses routines from libdevice.\n",
      "Searched for CUDA in the following directories:\n",
      "  ./cuda_sdk_lib\n",
      "  /usr/local/cuda-11.2\n",
      "  /usr/local/cuda\n",
      "  .\n",
      "You can choose the search directory by setting xla_gpu_cuda_data_dir in HloModule's DebugOptions.  For most apps, setting the environment variable XLA_FLAGS=--xla_gpu_cuda_data_dir=/path/to/cuda will work.\n",
      "2023-04-21 22:51:41.848641: I tensorflow/compiler/jit/xla_compilation_cache.cc:477] Compiled cluster using XLA!  This line is logged at most once for the lifetime of the process.\n"
     ]
    },
    {
     "name": "stdout",
     "output_type": "stream",
     "text": [
      "1408/1408 [==============================] - 281s 186ms/step - loss: 0.0408\n",
      "Epoch 2/40\n",
      "1408/1408 [==============================] - 260s 184ms/step - loss: 0.0269\n",
      "Epoch 3/40\n",
      "1408/1408 [==============================] - 260s 184ms/step - loss: 0.0295\n",
      "Epoch 4/40\n",
      "1408/1408 [==============================] - 259s 184ms/step - loss: 0.0284\n",
      "Epoch 5/40\n",
      "1408/1408 [==============================] - 259s 184ms/step - loss: 0.0234\n",
      "Epoch 6/40\n",
      "1408/1408 [==============================] - 259s 184ms/step - loss: 0.0249\n",
      "Epoch 7/40\n",
      "1408/1408 [==============================] - 260s 184ms/step - loss: 0.0203\n",
      "Epoch 8/40\n",
      "1408/1408 [==============================] - 259s 184ms/step - loss: 0.0168\n",
      "Epoch 9/40\n",
      "1408/1408 [==============================] - 260s 184ms/step - loss: 0.0098\n",
      "Epoch 10/40\n",
      "1408/1408 [==============================] - 260s 185ms/step - loss: 0.0098\n",
      "Epoch 11/40\n",
      "1408/1408 [==============================] - 260s 184ms/step - loss: 0.0142\n",
      "Epoch 12/40\n",
      "1408/1408 [==============================] - 260s 184ms/step - loss: 0.0106\n",
      "Epoch 13/40\n",
      "1408/1408 [==============================] - 260s 184ms/step - loss: 0.0088\n",
      "Epoch 14/40\n",
      "1408/1408 [==============================] - 260s 184ms/step - loss: 0.0067\n",
      "Epoch 15/40\n",
      "1408/1408 [==============================] - 260s 184ms/step - loss: 0.0096\n",
      "Epoch 16/40\n",
      "1408/1408 [==============================] - 260s 184ms/step - loss: 0.0069\n",
      "Epoch 17/40\n",
      "1408/1408 [==============================] - 259s 184ms/step - loss: 0.0059\n",
      "Epoch 18/40\n",
      "1408/1408 [==============================] - 259s 184ms/step - loss: 0.0063\n",
      "Epoch 19/40\n",
      "1408/1408 [==============================] - 260s 184ms/step - loss: 0.0077\n",
      "Epoch 20/40\n",
      "1408/1408 [==============================] - 260s 184ms/step - loss: 0.0115\n",
      "Epoch 21/40\n",
      "1408/1408 [==============================] - 260s 184ms/step - loss: 0.0073\n",
      "Epoch 22/40\n",
      "1408/1408 [==============================] - 260s 184ms/step - loss: 0.0067\n",
      "Epoch 23/40\n",
      "1408/1408 [==============================] - 259s 184ms/step - loss: 0.0051\n",
      "Epoch 24/40\n",
      "1408/1408 [==============================] - 260s 184ms/step - loss: 0.0092\n",
      "Epoch 25/40\n",
      "1408/1408 [==============================] - 259s 184ms/step - loss: 0.0095\n",
      "Epoch 26/40\n",
      "1408/1408 [==============================] - 260s 184ms/step - loss: 0.0066\n",
      "Epoch 27/40\n",
      "1408/1408 [==============================] - 259s 184ms/step - loss: 0.0068\n",
      "Epoch 28/40\n",
      "1408/1408 [==============================] - 259s 184ms/step - loss: 0.0089\n",
      "Epoch 29/40\n",
      "1408/1408 [==============================] - 259s 184ms/step - loss: 0.0059\n",
      "Epoch 30/40\n",
      "1408/1408 [==============================] - 260s 184ms/step - loss: 0.0059\n",
      "Epoch 31/40\n",
      "1408/1408 [==============================] - 260s 184ms/step - loss: 0.0054\n",
      "Epoch 32/40\n",
      "1408/1408 [==============================] - 260s 184ms/step - loss: 0.0051\n",
      "Epoch 33/40\n",
      "1408/1408 [==============================] - 260s 184ms/step - loss: 0.0064\n",
      "Epoch 34/40\n",
      "1408/1408 [==============================] - 260s 184ms/step - loss: 0.0049\n",
      "Epoch 35/40\n",
      "1408/1408 [==============================] - 260s 184ms/step - loss: 0.0064\n",
      "Epoch 36/40\n",
      "1408/1408 [==============================] - 260s 184ms/step - loss: 0.0058\n",
      "Epoch 37/40\n",
      "1408/1408 [==============================] - 260s 184ms/step - loss: 0.0075\n",
      "Epoch 38/40\n",
      "1408/1408 [==============================] - 259s 184ms/step - loss: 0.0053\n",
      "Epoch 39/40\n",
      "1408/1408 [==============================] - 260s 184ms/step - loss: 0.0077\n",
      "Epoch 40/40\n",
      "1408/1408 [==============================] - 260s 184ms/step - loss: 0.0110\n"
     ]
    },
    {
     "data": {
      "text/plain": [
       "<keras.callbacks.History at 0x7f41e0544760>"
      ]
     },
     "execution_count": 28,
     "metadata": {},
     "output_type": "execute_result"
    }
   ],
   "source": [
    "model.fit(r, epochs=40)"
   ]
  },
  {
   "cell_type": "code",
   "execution_count": 29,
   "id": "534ec80c",
   "metadata": {},
   "outputs": [
    {
     "name": "stderr",
     "output_type": "stream",
     "text": [
      "WARNING:absl:Found untraced functions such as _jit_compiled_convolution_op, _jit_compiled_convolution_op, _jit_compiled_convolution_op, _jit_compiled_convolution_op, _jit_compiled_convolution_op while saving (showing 5 of 13). These functions will not be directly callable after loading.\n"
     ]
    },
    {
     "name": "stdout",
     "output_type": "stream",
     "text": [
      "INFO:tensorflow:Assets written to: proboscis_model_1/assets\n"
     ]
    },
    {
     "name": "stderr",
     "output_type": "stream",
     "text": [
      "INFO:tensorflow:Assets written to: proboscis_model_1/assets\n"
     ]
    }
   ],
   "source": [
    "model.save(\"proboscis_model_1\")"
   ]
  },
  {
   "cell_type": "code",
   "execution_count": 30,
   "id": "40c4ab0d",
   "metadata": {},
   "outputs": [],
   "source": [
    "a,b = r[0]"
   ]
  },
  {
   "cell_type": "code",
   "execution_count": 31,
   "id": "710864f3",
   "metadata": {},
   "outputs": [
    {
     "name": "stderr",
     "output_type": "stream",
     "text": [
      "2023-04-22 07:29:27.146470: I tensorflow/compiler/xla/stream_executor/cuda/cuda_blas.cc:630] TensorFloat-32 will be used for the matrix multiplication. This will only be logged once.\n"
     ]
    }
   ],
   "source": [
    "m = model(a)"
   ]
  },
  {
   "cell_type": "code",
   "execution_count": 32,
   "id": "9fd3204f",
   "metadata": {},
   "outputs": [],
   "source": [
    "n = m.numpy()"
   ]
  },
  {
   "cell_type": "code",
   "execution_count": 39,
   "id": "54b134a1",
   "metadata": {},
   "outputs": [
    {
     "data": {
      "image/png": "[encoded data removed]",
      "text/plain": [
       "<Figure size 432x288 with 1 Axes>"
      ]
     },
     "metadata": {
      "needs_background": "light"
     },
     "output_type": "display_data"
    },
    {
     "data": {
      "image/png": "[encoded data removed]",
      "text/plain": [
       "<Figure size 432x288 with 1 Axes>"
      ]
     },
     "metadata": {
      "needs_background": "light"
     },
     "output_type": "display_data"
    },
    {
     "data": {
      "image/png": "[encoded data removed]",
      "text/plain": [
       "<Figure size 432x288 with 1 Axes>"
      ]
     },
     "metadata": {
      "needs_background": "light"
     },
     "output_type": "display_data"
    },
    {
     "data": {
      "image/png": "[encoded data removed]",
      "text/plain": [
       "<Figure size 432x288 with 1 Axes>"
      ]
     },
     "metadata": {
      "needs_background": "light"
     },
     "output_type": "display_data"
    },
    {
     "data": {
      "image/png": "[encoded data removed]",
      "text/plain": [
       "<Figure size 432x288 with 1 Axes>"
      ]
     },
     "metadata": {
      "needs_background": "light"
     },
     "output_type": "display_data"
    },
    {
     "data": {
      "image/png": "[encoded data removed]",
      "text/plain": [
       "<Figure size 432x288 with 1 Axes>"
      ]
     },
     "metadata": {
      "needs_background": "light"
     },
     "output_type": "display_data"
    },
    {
     "data": {
      "image/png": "[encoded data removed]",
      "text/plain": [
       "<Figure size 432x288 with 1 Axes>"
      ]
     },
     "metadata": {
      "needs_background": "light"
     },
     "output_type": "display_data"
    },
    {
     "data": {
      "image/png": "[encoded data removed]",
      "text/plain": [
       "<Figure size 432x288 with 1 Axes>"
      ]
     },
     "metadata": {
      "needs_background": "light"
     },
     "output_type": "display_data"
    },
    {
     "data": {
      "image/png": "[encoded data removed]",
      "text/plain": [
       "<Figure size 432x288 with 1 Axes>"
      ]
     },
     "metadata": {
      "needs_background": "light"
     },
     "output_type": "display_data"
    },
    {
     "data": {
      "image/png": "[encoded data removed]",
      "text/plain": [
       "<Figure size 432x288 with 1 Axes>"
      ]
     },
     "metadata": {
      "needs_background": "light"
     },
     "output_type": "display_data"
    },
    {
     "data": {
      "image/png": "[encoded data removed]",
      "text/plain": [
       "<Figure size 432x288 with 1 Axes>"
      ]
     },
     "metadata": {
      "needs_background": "light"
     },
     "output_type": "display_data"
    },
    {
     "data": {
      "image/png": "[encoded data removed]",
      "text/plain": [
       "<Figure size 432x288 with 1 Axes>"
      ]
     },
     "metadata": {
      "needs_background": "light"
     },
     "output_type": "display_data"
    },
    {
     "data": {
      "image/png": "[encoded data removed]",
      "text/plain": [
       "<Figure size 432x288 with 1 Axes>"
      ]
     },
     "metadata": {
      "needs_background": "light"
     },
     "output_type": "display_data"
    },
    {
     "data": {
      "image/png": "[encoded data removed]",
      "text/plain": [
       "<Figure size 432x288 with 1 Axes>"
      ]
     },
     "metadata": {
      "needs_background": "light"
     },
     "output_type": "display_data"
    },
    {
     "data": {
      "image/png": "[encoded data removed]",
      "text/plain": [
       "<Figure size 432x288 with 1 Axes>"
      ]
     },
     "metadata": {
      "needs_background": "light"
     },
     "output_type": "display_data"
    },
    {
     "data": {
      "image/png": "[encoded data removed]",
      "text/plain": [
       "<Figure size 432x288 with 1 Axes>"
      ]
     },
     "metadata": {
      "needs_background": "light"
     },
     "output_type": "display_data"
    }
   ],
   "source": [
    "for i in range(8):\n",
    "    pyplot.imshow(a[i,:,:,0])\n",
    "    pyplot.show()\n",
    "    pyplot.imshow(n[i,:,:,0] > 0)\n",
    "    pyplot.show()"
   ]
  },
  {
   "cell_type": "code",
   "execution_count": 36,
   "id": "ab1d48fe",
   "metadata": {},
   "outputs": [
    {
     "data": {
      "text/plain": [
       "<function matplotlib.pyplot.imshow(X, cmap=None, norm=None, aspect=None, interpolation=None, alpha=None, vmin=None, vmax=None, origin=None, extent=None, *, filternorm=True, filterrad=4.0, resample=None, url=None, data=None, **kwargs)>"
      ]
     },
     "execution_count": 36,
     "metadata": {},
     "output_type": "execute_result"
    }
   ],
   "source": [
    "pyplot.imshow"
   ]
  },
  {
   "cell_type": "code",
   "execution_count": null,
   "id": "553a4abe",
   "metadata": {},
   "outputs": [],
   "source": []
  }
 ],
 "metadata": {
  "kernelspec": {
   "display_name": "Python 3 (ipykernel)",
   "language": "python",
   "name": "python3"
  },
  "language_info": {
   "codemirror_mode": {
    "name": "ipython",
    "version": 3
   },
   "file_extension": ".py",
   "mimetype": "text/x-python",
   "name": "python",
   "nbconvert_exporter": "python",
   "pygments_lexer": "ipython3",
   "version": "3.9.7"
  }
 },
 "nbformat": 4,
 "nbformat_minor": 5
}
